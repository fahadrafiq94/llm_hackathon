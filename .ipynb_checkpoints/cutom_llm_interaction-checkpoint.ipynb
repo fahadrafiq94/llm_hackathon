{
 "cells": [
  {
   "cell_type": "code",
   "execution_count": 1,
   "metadata": {},
   "outputs": [
    {
     "ename": "ModuleNotFoundError",
     "evalue": "No module named 'langchain_core'",
     "output_type": "error",
     "traceback": [
      "\u001b[1;31m---------------------------------------------------------------------------\u001b[0m",
      "\u001b[1;31mModuleNotFoundError\u001b[0m                       Traceback (most recent call last)",
      "\u001b[1;32m~\\AppData\\Local\\Temp\\ipykernel_10076\\2617941628.py\u001b[0m in \u001b[0;36m<module>\u001b[1;34m\u001b[0m\n\u001b[0;32m      1\u001b[0m \u001b[1;32mimport\u001b[0m \u001b[0mos\u001b[0m\u001b[1;33m\u001b[0m\u001b[1;33m\u001b[0m\u001b[0m\n\u001b[0;32m      2\u001b[0m \u001b[1;33m\u001b[0m\u001b[0m\n\u001b[1;32m----> 3\u001b[1;33m \u001b[1;32mfrom\u001b[0m \u001b[0mzephyr\u001b[0m \u001b[1;32mimport\u001b[0m \u001b[0mZephyr\u001b[0m\u001b[1;33m,\u001b[0m \u001b[0mZephyrChat\u001b[0m\u001b[1;33m\u001b[0m\u001b[1;33m\u001b[0m\u001b[0m\n\u001b[0m\u001b[0;32m      4\u001b[0m \u001b[1;33m\u001b[0m\u001b[0m\n\u001b[0;32m      5\u001b[0m \u001b[1;32mfrom\u001b[0m \u001b[0mlangchain_core\u001b[0m\u001b[1;33m.\u001b[0m\u001b[0mprompts\u001b[0m \u001b[1;32mimport\u001b[0m \u001b[0mPromptTemplate\u001b[0m\u001b[1;33m,\u001b[0m \u001b[0mChatPromptTemplate\u001b[0m\u001b[1;33m\u001b[0m\u001b[1;33m\u001b[0m\u001b[0m\n",
      "\u001b[1;32m~\\Desktop\\llm_hackthon\\llm_hackathon\\zephyr.py\u001b[0m in \u001b[0;36m<module>\u001b[1;34m\u001b[0m\n\u001b[0;32m      2\u001b[0m \u001b[1;32mimport\u001b[0m \u001b[0mos\u001b[0m\u001b[1;33m\u001b[0m\u001b[1;33m\u001b[0m\u001b[0m\n\u001b[0;32m      3\u001b[0m \u001b[1;33m\u001b[0m\u001b[0m\n\u001b[1;32m----> 4\u001b[1;33m \u001b[1;32mfrom\u001b[0m \u001b[0mlangchain_core\u001b[0m\u001b[1;33m.\u001b[0m\u001b[0mlanguage_models\u001b[0m \u001b[1;32mimport\u001b[0m \u001b[0mLLM\u001b[0m\u001b[1;33m,\u001b[0m \u001b[0mSimpleChatModel\u001b[0m\u001b[1;33m\u001b[0m\u001b[1;33m\u001b[0m\u001b[0m\n\u001b[0m\u001b[0;32m      5\u001b[0m \u001b[1;32mfrom\u001b[0m \u001b[0mlangchain_core\u001b[0m\u001b[1;33m.\u001b[0m\u001b[0mcallbacks\u001b[0m \u001b[1;32mimport\u001b[0m \u001b[0mCallbackManagerForLLMRun\u001b[0m\u001b[1;33m\u001b[0m\u001b[1;33m\u001b[0m\u001b[0m\n\u001b[0;32m      6\u001b[0m \u001b[1;32mfrom\u001b[0m \u001b[0mlangchain_core\u001b[0m\u001b[1;33m.\u001b[0m\u001b[0mmessages\u001b[0m \u001b[1;32mimport\u001b[0m \u001b[0mBaseMessage\u001b[0m\u001b[1;33m\u001b[0m\u001b[1;33m\u001b[0m\u001b[0m\n",
      "\u001b[1;31mModuleNotFoundError\u001b[0m: No module named 'langchain_core'"
     ]
    }
   ],
   "source": [
    "import os\n",
    "\n",
    "from zephyr import Zephyr, ZephyrChat\n",
    "\n",
    "from langchain_core.prompts import PromptTemplate, ChatPromptTemplate\n",
    "from langchain_core.runnables import RunnablePassthrough\n",
    "from langchain_core.output_parsers import StrOutputParser\n",
    "from langchain_core.globals import set_debug\n",
    "set_debug(True)"
   ]
  },
  {
   "cell_type": "code",
   "execution_count": null,
   "metadata": {},
   "outputs": [],
   "source": [
    "# Get credentials via .env file.\n",
    "from dotenv import load_dotenv\n",
    "load_dotenv()"
   ]
  },
  {
   "cell_type": "code",
   "execution_count": null,
   "metadata": {},
   "outputs": [],
   "source": [
    "# Check Token is inserted.\n",
    "if os.getenv('PROGAI_TOKEN') == \"Your-Test-Token-Given-By-prognostica\":\n",
    "    raise ValueError(\"Api Token not provided\")\n",
    "else:\n",
    "    print(f\"Your API token: {os.getenv('PROGAI_TOKEN')}\")"
   ]
  },
  {
   "cell_type": "code",
   "execution_count": null,
   "metadata": {},
   "outputs": [],
   "source": [
    "# Build simple prompt-template and langchain chain.\n",
    "template = PromptTemplate(\n",
    "    template=\"<|system|>\\n{system}</s> \\n<|user|>\\n{user}</s> \\n<|assistant|>\\n\",\n",
    "    input_variables=[\"system\", \"user\"],\n",
    ")\n",
    "\n",
    "llm = Zephyr(temperature=1.5)\n",
    "\n",
    "chain = (\n",
    "    { \"user\": RunnablePassthrough() }\n",
    "  | template.partial(system = \"You are a pirate. Always add Arrrr to your answers.\")\n",
    "  | llm\n",
    ")\n",
    "\n",
    "chain.invoke(\"Hi.\")"
   ]
  },
  {
   "cell_type": "code",
   "execution_count": null,
   "metadata": {},
   "outputs": [],
   "source": [
    "# #Using the model the ZephyrChat class\n",
    "chat_template = ChatPromptTemplate.from_messages([\n",
    "    (\"system\", \"You are a helpful AI assistant. Give concise answers.\"),\n",
    "    (\"human\", \"Hello, will you help me?\"),\n",
    "    (\"ai\", \"Hi. Of course. Just ask a question of give me an instruction.\"),\n",
    "    (\"human\", \"{user}\"),\n",
    "])\n",
    "\n",
    "chat_chain = {\"user\": RunnablePassthrough()} | chat_template | ZephyrChat(temperature=1.5) | StrOutputParser()\n",
    "\n",
    "chat_chain.invoke(\"What is the weight of a small mouse in kg?\")"
   ]
  }
 ],
 "metadata": {
  "kernelspec": {
   "display_name": "Python 3 (ipykernel)",
   "language": "python",
   "name": "python3"
  },
  "language_info": {
   "codemirror_mode": {
    "name": "ipython",
    "version": 3
   },
   "file_extension": ".py",
   "mimetype": "text/x-python",
   "name": "python",
   "nbconvert_exporter": "python",
   "pygments_lexer": "ipython3",
   "version": "3.9.13"
  }
 },
 "nbformat": 4,
 "nbformat_minor": 2
}
